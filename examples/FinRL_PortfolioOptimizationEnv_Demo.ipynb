{
 "cells": [
  {
   "cell_type": "markdown",
   "metadata": {
    "id": "3xt6fIDownZs"
   },
   "source": [
    "# A guide Portfolio Optimization Environment\n",
    "\n",
    "This notebook aims to provide an example of using PortfolioOptimizationEnv (or POE) to train a reinforcement learning model that learns to solve the portfolio optimization problem.\n",
    "\n",
    "In this document, we will reproduce a famous architecture called EIIE (ensemble of identical independent evaluators), introduced in the following paper:\n",
    "\n",
    "- Zhengyao Jiang, Dixing Xu, & Jinjun Liang. (2017). A Deep Reinforcement Learning Framework for the Financial Portfolio Management Problem. https://doi.org/10.48550/arXiv.1706.10059.\n",
    "\n",
    "It's advisable to read it to understand the algorithm implemented in this notebook.\n",
    "\n",
    "### Note\n",
    "If you're using this environment, consider citing the following paper (in adittion to FinRL references):\n",
    "\n",
    "- Caio Costa, & Anna Costa (2023). POE: A General Portfolio Optimization Environment for FinRL. In *Anais do II Brazilian Workshop on Artificial Intelligence in Finance* (pp. 132–143). SBC. https://doi.org/10.5753/bwaif.2023.231144.\n",
    "\n",
    "```\n",
    "@inproceedings{bwaif,\n",
    " author = {Caio Costa and Anna Costa},\n",
    " title = {POE: A General Portfolio Optimization Environment for FinRL},\n",
    " booktitle = {Anais do II Brazilian Workshop on Artificial Intelligence in Finance},\n",
    " location = {João Pessoa/PB},\n",
    " year = {2023},\n",
    " keywords = {},\n",
    " issn = {0000-0000},\n",
    " pages = {132--143},\n",
    " publisher = {SBC},\n",
    " address = {Porto Alegre, RS, Brasil},\n",
    " doi = {10.5753/bwaif.2023.231144},\n",
    " url = {https://sol.sbc.org.br/index.php/bwaif/article/view/24959}\n",
    "}\n",
    "\n",
    "```"
   ]
  },
  {
   "cell_type": "markdown",
   "metadata": {
    "id": "Q0L7FZeWMUHp"
   },
   "source": [
    "## Installation and imports\n",
    "\n",
    "To run this notebook in google colab, uncomment the cells below."
   ]
  },
  {
   "cell_type": "code",
   "execution_count": null,
   "metadata": {
    "colab": {
     "base_uri": "https://localhost:8080/"
    },
    "id": "XGHfTt1HMVQw",
    "outputId": "e5226807-a740-4f22-a279-f466886518ba"
   },
   "outputs": [
    {
     "ename": "",
     "evalue": "",
     "output_type": "error",
     "traceback": [
      "\u001b[1;31mRunning cells with '.venv (Python 3.10.0)' requires the ipykernel package.\n",
      "\u001b[1;31mRun the following command to install 'ipykernel' into the Python environment. \n",
      "\u001b[1;31mCommand: 'c:/Users/bencj/Desktop/Econ4/FinRL/.venv/Scripts/python.exe -m pip install ipykernel -U --force-reinstall'"
     ]
    }
   ],
   "source": [
    "## install finrl library\n",
    "# !sudo apt install swig\n",
    "# !pip install git+https://github.com/AI4Finance-Foundation/FinRL.git"
   ]
  },
  {
   "cell_type": "code",
   "execution_count": null,
   "metadata": {
    "colab": {
     "base_uri": "https://localhost:8080/"
    },
    "id": "-GLganWiMYZ1",
    "outputId": "b3a7f99c-55dd-4274-c1ce-ab3a8111929a"
   },
   "outputs": [],
   "source": [
    "## We also need to install quantstats, because the environment uses it to plot graphs\n",
    "# !pip install quantstats"
   ]
  },
  {
   "cell_type": "code",
   "execution_count": null,
   "metadata": {
    "id": "6RqrzokqoanP"
   },
   "outputs": [],
   "source": [
    "## Hide matplotlib warnings\n",
    "# import warnings\n",
    "# warnings.filterwarnings('ignore')\n",
    "\n",
    "import logging\n",
    "logging.getLogger('matplotlib.font_manager').disabled = True"
   ]
  },
  {
   "cell_type": "markdown",
   "metadata": {
    "id": "Cz8DLleGz_TF"
   },
   "source": [
    "#### Import the necessary code libraries"
   ]
  },
  {
   "cell_type": "code",
   "execution_count": null,
   "metadata": {
    "colab": {
     "base_uri": "https://localhost:8080/"
    },
    "id": "cP5t6U7-nYoc",
    "outputId": "fd138d3e-222a-4ec5-e008-03a28b89dae9"
   },
   "outputs": [],
   "source": [
    "import torch\n",
    "\n",
    "import numpy as np\n",
    "\n",
    "from sklearn.preprocessing import MaxAbsScaler\n",
    "\n",
    "from finrl.meta.preprocessor.yahoodownloader import YahooDownloader\n",
    "from finrl.meta.preprocessor.preprocessors import GroupByScaler\n",
    "from finrl.meta.env_portfolio_optimization.env_portfolio_optimization import PortfolioOptimizationEnv\n",
    "from finrl.agents.portfolio_optimization.models import DRLAgent\n",
    "from finrl.agents.portfolio_optimization.architectures import EIIE\n",
    "\n",
    "device = 'cuda:0' if torch.cuda.is_available() else 'cpu'"
   ]
  },
  {
   "cell_type": "markdown",
   "metadata": {
    "id": "TY2yhvpASEyo"
   },
   "source": [
    "## Fetch data\n",
    "\n",
    "In his paper, *Jiang et al* creates a portfolio composed by the top-11 cryptocurrencies based on 30-days volume. Since it's not specified when this classification was done, it's difficult to reproduce, so we will use a similar approach in the Brazillian stock market:\n",
    "\n",
    "- We select top-10 stocks from Brazillian stock market;\n",
    "- For simplicity, we disconsider stocks that have missing data for the days in period 2011-01-01 to 2019-12-31 (9 years);"
   ]
  },
  {
   "cell_type": "code",
   "execution_count": null,
   "metadata": {
    "colab": {
     "base_uri": "https://localhost:8080/"
    },
    "id": "H11UjCstSFwm",
    "outputId": "3d27b983-d1e0-41af-b20a-421be40e469f"
   },
   "outputs": [],
   "source": [
    "TOP_BRL = [\n",
    "    \"VALE3.SA\", \"PETR4.SA\", \"ITUB4.SA\", \"BBDC4.SA\",\n",
    "    \"BBAS3.SA\", \"RENT3.SA\", \"LREN3.SA\", \"PRIO3.SA\",\n",
    "    \"WEGE3.SA\", \"ABEV3.SA\"\n",
    "]"
   ]
  },
  {
   "cell_type": "code",
   "execution_count": null,
   "metadata": {
    "colab": {
     "base_uri": "https://localhost:8080/",
     "height": 623
    },
    "id": "Bkm96aNsSIji",
    "outputId": "e3a20095-841e-4c89-c08e-24b9575cfb02"
   },
   "outputs": [],
   "source": [
    "print(len(TOP_BRL))\n",
    "\n",
    "portfolio_raw_df = YahooDownloader(start_date = '2011-01-01',\n",
    "                                end_date = '2022-12-31',\n",
    "                                ticker_list = TOP_BRL).fetch_data()\n",
    "portfolio_raw_df"
   ]
  },
  {
   "cell_type": "code",
   "execution_count": null,
   "metadata": {
    "colab": {
     "base_uri": "https://localhost:8080/",
     "height": 444
    },
    "id": "2UqpIXsuSKfO",
    "outputId": "436605d5-bc9e-4038-e3d7-7bdf140033d8"
   },
   "outputs": [],
   "source": [
    "portfolio_raw_df.groupby(\"tic\").count()"
   ]
  },
  {
   "cell_type": "markdown",
   "metadata": {},
   "source": [
    "### Normalize Data"
   ]
  },
  {
   "cell_type": "markdown",
   "metadata": {},
   "source": [
    "We normalize the data dividing the time series of each stock by its maximum value, so that the dataframe contains values between 0 and 1."
   ]
  },
  {
   "cell_type": "code",
   "execution_count": null,
   "metadata": {},
   "outputs": [],
   "source": [
    "portfolio_norm_df = GroupByScaler(by=\"tic\", scaler=MaxAbsScaler).fit_transform(portfolio_raw_df)\n",
    "portfolio_norm_df"
   ]
  },
  {
   "cell_type": "code",
   "execution_count": null,
   "metadata": {},
   "outputs": [],
   "source": [
    "df_portfolio = portfolio_norm_df[[\"date\", \"tic\", \"close\", \"high\", \"low\"]]\n",
    "\n",
    "df_portfolio_train = df_portfolio[(df_portfolio[\"date\"] >= \"2011-01-01\") & (df_portfolio[\"date\"] < \"2019-12-31\")]\n",
    "df_portfolio_2020 = df_portfolio[(df_portfolio[\"date\"] >= \"2020-01-01\") & (df_portfolio[\"date\"] < \"2020-12-31\")]\n",
    "df_portfolio_2021 = df_portfolio[(df_portfolio[\"date\"] >= \"2021-01-01\") & (df_portfolio[\"date\"] < \"2021-12-31\")]\n",
    "df_portfolio_2022 = df_portfolio[(df_portfolio[\"date\"] >= \"2022-01-01\") & (df_portfolio[\"date\"] < \"2022-12-31\")]"
   ]
  },
  {
   "cell_type": "markdown",
   "metadata": {
    "id": "pM829994GWo3"
   },
   "source": [
    "### Instantiate Environment\n",
    "\n",
    "Using the `PortfolioOptimizationEnv`, it's easy to instantiate a portfolio optimization environment for reinforcement learning agents. In the example below, we use the dataframe created before to start an environment."
   ]
  },
  {
   "cell_type": "code",
   "execution_count": null,
   "metadata": {},
   "outputs": [],
   "source": [
    "environment = PortfolioOptimizationEnv(\n",
    "        df_portfolio_train,\n",
    "        initial_amount=100000,\n",
    "        comission_fee_pct=0.0025,\n",
    "        time_window=50,\n",
    "        features=[\"close\", \"high\", \"low\"],\n",
    "        normalize_df=None\n",
    "    )"
   ]
  },
  {
   "cell_type": "markdown",
   "metadata": {},
   "source": [
    "### Instantiate Model\n",
    "\n",
    "Now, we can instantiate the model using FinRL API. In this example, we are going to use the EIIE architecture introduced by Jiang et. al.\n",
    "\n",
    ":exclamation: **Note:** Remember to set the architecture's `time_window` parameter with the same value of the environment's `time_window`."
   ]
  },
  {
   "cell_type": "code",
   "execution_count": null,
   "metadata": {
    "colab": {
     "base_uri": "https://localhost:8080/",
     "height": 1000,
     "referenced_widgets": [
      "750b2ea28d2a439db3fc5034927dbce2",
      "c172e120fc5e4f9ab13bf8599d868b5f",
      "4b2aa7128c5d4d15bb794eb76faccd6a",
      "317393fb13c0449abfff29a4949553a0",
      "8cb75a82e5374c51b1f47a6e15783177",
      "9cb3d937be5d4f7cac192b392218ef37",
      "b27b9cc333ac44a5bb2cec60d02f16c0",
      "6a1187acb99d44c68e27cd5aad879ff1",
      "6a5c9dbaddc441d390d4827c170cbe9c",
      "1f84695a1caf4c80b29eb5eea90bb29a",
      "a7a6884bfdb642b9b342f7cda49d7d67"
     ]
    },
    "id": "wr82W3E0uQSo",
    "outputId": "61dcf1f5-7cf0-40b2-85bd-3f7dd943ddc6",
    "scrolled": true
   },
   "outputs": [],
   "source": [
    "# set PolicyGradient parameters\n",
    "model_kwargs = {\n",
    "    \"lr\": 0.01,\n",
    "    \"policy\": EIIE,\n",
    "}\n",
    "\n",
    "# here, we can set EIIE's parameters\n",
    "policy_kwargs = {\n",
    "    \"k_size\": 3,\n",
    "    \"time_window\": 50,\n",
    "}\n",
    "\n",
    "model = DRLAgent(environment).get_model(\"pg\", device, model_kwargs, policy_kwargs)"
   ]
  },
  {
   "cell_type": "markdown",
   "metadata": {},
   "source": [
    "### Train Model"
   ]
  },
  {
   "cell_type": "code",
   "execution_count": null,
   "metadata": {},
   "outputs": [],
   "source": [
    "DRLAgent.train_model(model, episodes=40)"
   ]
  },
  {
   "cell_type": "markdown",
   "metadata": {
    "id": "JE7X3qEeXOr4"
   },
   "source": [
    "### Save Model"
   ]
  },
  {
   "cell_type": "code",
   "execution_count": null,
   "metadata": {
    "id": "YcWuPgPvXNpP"
   },
   "outputs": [],
   "source": [
    "torch.save(model.train_policy.state_dict(), \"policy_EIIE.pt\")"
   ]
  },
  {
   "cell_type": "markdown",
   "metadata": {
    "id": "7FRK9A98XVck"
   },
   "source": [
    "## Test Model"
   ]
  },
  {
   "cell_type": "markdown",
   "metadata": {
    "id": "IFYB9iGwAPSh"
   },
   "source": [
    "### Instantiate different environments\n",
    "\n",
    "Since we have three different periods of time, we need three different environments instantiated to simulate them."
   ]
  },
  {
   "cell_type": "code",
   "execution_count": null,
   "metadata": {
    "id": "HhsL5Cxx9d5s"
   },
   "outputs": [],
   "source": [
    "environment_2020 = PortfolioOptimizationEnv(\n",
    "    df_portfolio_2020,\n",
    "    initial_amount=100000,\n",
    "    comission_fee_pct=0.0025,\n",
    "    time_window=50,\n",
    "    features=[\"close\", \"high\", \"low\"],\n",
    "    normalize_df=None\n",
    ")\n",
    "\n",
    "environment_2021 = PortfolioOptimizationEnv(\n",
    "    df_portfolio_2021,\n",
    "    initial_amount=100000,\n",
    "    comission_fee_pct=0.0025,\n",
    "    time_window=50,\n",
    "    features=[\"close\", \"high\", \"low\"],\n",
    "    normalize_df=None\n",
    ")\n",
    "\n",
    "environment_2022 = PortfolioOptimizationEnv(\n",
    "    df_portfolio_2022,\n",
    "    initial_amount=100000,\n",
    "    comission_fee_pct=0.0025,\n",
    "    time_window=50,\n",
    "    features=[\"close\", \"high\", \"low\"],\n",
    "    normalize_df=None\n",
    ")"
   ]
  },
  {
   "cell_type": "markdown",
   "metadata": {
    "id": "Y4RuS2pRAa4H"
   },
   "source": [
    "### Test EIIE architecture\n",
    "Now, we can test the EIIE architecture in the three different test periods. It's important no note that, in this code, we load the saved policy even though it's not necessary just to show how to save and load your model."
   ]
  },
  {
   "cell_type": "code",
   "execution_count": null,
   "metadata": {
    "id": "JeRy__TI9CAs"
   },
   "outputs": [],
   "source": [
    "EIIE_results = {\n",
    "    \"training\": environment._asset_memory[\"final\"],\n",
    "    \"2020\": {},\n",
    "    \"2021\": {},\n",
    "    \"2022\": {}\n",
    "}\n",
    "\n",
    "# instantiate an architecture with the same arguments used in training\n",
    "# and load with load_state_dict.\n",
    "policy = EIIE(time_window=50, device=device)\n",
    "policy.load_state_dict(torch.load(\"policy_EIIE.pt\"))\n",
    "\n",
    "# 2020\n",
    "DRLAgent.DRL_validation(model, environment_2020, policy=policy)\n",
    "EIIE_results[\"2020\"][\"value\"] = environment_2020._asset_memory[\"final\"]\n",
    "\n",
    "# 2021\n",
    "DRLAgent.DRL_validation(model, environment_2021, policy=policy)\n",
    "EIIE_results[\"2021\"][\"value\"] = environment_2021._asset_memory[\"final\"]\n",
    "\n",
    "# 2022\n",
    "DRLAgent.DRL_validation(model, environment_2022, policy=policy)\n",
    "EIIE_results[\"2022\"][\"value\"] = environment_2022._asset_memory[\"final\"]"
   ]
  },
  {
   "cell_type": "markdown",
   "metadata": {
    "id": "LZc5PpbaBU-J"
   },
   "source": [
    "### Test Uniform Buy and Hold\n",
    "For comparison, we will also test the performance of a uniform buy and hold strategy. In this strategy, the portfolio has no remaining cash and the same percentage of money is allocated in each asset."
   ]
  },
  {
   "cell_type": "code",
   "execution_count": null,
   "metadata": {
    "id": "ntHO_UIs-83T"
   },
   "outputs": [],
   "source": [
    "UBAH_results = {\n",
    "    \"train\": {},\n",
    "    \"2020\": {},\n",
    "    \"2021\": {},\n",
    "    \"2022\": {}\n",
    "}\n",
    "\n",
    "PORTFOLIO_SIZE = len(TOP_BRL)\n",
    "\n",
    "# train period\n",
    "terminated = False\n",
    "environment.reset()\n",
    "while not terminated:\n",
    "    action = [0] + [1/PORTFOLIO_SIZE] * PORTFOLIO_SIZE\n",
    "    _, _, terminated, _ = environment.step(action)\n",
    "UBAH_results[\"train\"][\"value\"] = environment._asset_memory[\"final\"]\n",
    "\n",
    "# 2020\n",
    "terminated = False\n",
    "environment_2020.reset()\n",
    "while not terminated:\n",
    "    action = [0] + [1/PORTFOLIO_SIZE] * PORTFOLIO_SIZE\n",
    "    _, _, terminated, _ = environment_2020.step(action)\n",
    "UBAH_results[\"2020\"][\"value\"] = environment_2020._asset_memory[\"final\"]\n",
    "\n",
    "# 2021\n",
    "terminated = False\n",
    "environment_2021.reset()\n",
    "while not terminated:\n",
    "    action = [0] + [1/PORTFOLIO_SIZE] * PORTFOLIO_SIZE\n",
    "    _, _, terminated, _ = environment_2021.step(action)\n",
    "UBAH_results[\"2021\"][\"value\"] = environment_2021._asset_memory[\"final\"]\n",
    "\n",
    "# 2022\n",
    "terminated = False\n",
    "environment_2022.reset()\n",
    "while not terminated:\n",
    "    action = [0] + [1/PORTFOLIO_SIZE] * PORTFOLIO_SIZE\n",
    "    _, _, terminated, _ = environment_2022.step(action)\n",
    "UBAH_results[\"2022\"][\"value\"] = environment_2022._asset_memory[\"final\"]"
   ]
  },
  {
   "cell_type": "markdown",
   "metadata": {
    "id": "kBMM7hAHC6rq"
   },
   "source": [
    "### Plot graphics"
   ]
  },
  {
   "cell_type": "code",
   "execution_count": null,
   "metadata": {
    "id": "n8YrDNpeC71w"
   },
   "outputs": [],
   "source": [
    "import matplotlib.pyplot as plt\n",
    "%matplotlib inline \n",
    "\n",
    "plt.plot(UBAH_results[\"train\"][\"value\"], label=\"Buy and Hold\")\n",
    "plt.plot(EIIE_results[\"training\"], label=\"EIIE\")\n",
    "\n",
    "plt.xlabel(\"Days\")\n",
    "plt.ylabel(\"Portfolio Value\")\n",
    "plt.title(\"Performance in training period\")\n",
    "plt.legend()\n",
    "\n",
    "plt.show()"
   ]
  },
  {
   "cell_type": "code",
   "execution_count": null,
   "metadata": {
    "id": "dQniascoDIH2"
   },
   "outputs": [],
   "source": [
    "plt.plot(UBAH_results[\"2020\"][\"value\"], label=\"Buy and Hold\")\n",
    "plt.plot(EIIE_results[\"2020\"][\"value\"], label=\"EIIE\")\n",
    "\n",
    "plt.xlabel(\"Days\")\n",
    "plt.ylabel(\"Portfolio Value\")\n",
    "plt.title(\"Performance in 2020\")\n",
    "plt.legend()\n",
    "\n",
    "plt.show()"
   ]
  },
  {
   "cell_type": "code",
   "execution_count": null,
   "metadata": {
    "id": "1hJtnW7QDIt2"
   },
   "outputs": [],
   "source": [
    "plt.plot(UBAH_results[\"2021\"][\"value\"], label=\"Buy and Hold\")\n",
    "plt.plot(EIIE_results[\"2021\"][\"value\"], label=\"EIIE\")\n",
    "\n",
    "plt.xlabel(\"Days\")\n",
    "plt.ylabel(\"Portfolio Value\")\n",
    "plt.title(\"Performance in 2021\")\n",
    "plt.legend()\n",
    "\n",
    "plt.show()"
   ]
  },
  {
   "cell_type": "code",
   "execution_count": null,
   "metadata": {
    "id": "1hJD79w-DJXo"
   },
   "outputs": [],
   "source": [
    "plt.plot(UBAH_results[\"2022\"][\"value\"], label=\"Buy and Hold\")\n",
    "plt.plot(EIIE_results[\"2022\"][\"value\"], label=\"EIIE\")\n",
    "\n",
    "plt.xlabel(\"Days\")\n",
    "plt.ylabel(\"Portfolio Value\")\n",
    "plt.title(\"Performance in 2022\")\n",
    "plt.legend()\n",
    "\n",
    "plt.show()"
   ]
  },
  {
   "cell_type": "markdown",
   "metadata": {},
   "source": [
    "We can see that the agent is able to learn a good policy but its performance is worse the more the test period advances into the future. To get a better performance in 2022, for example, the agent should probably be trained again using more recent data."
   ]
  }
 ],
 "metadata": {
  "accelerator": "GPU",
  "colab": {
   "gpuType": "T4",
   "provenance": []
  },
  "kernelspec": {
   "display_name": ".venv",
   "language": "python",
   "name": "python3"
  },
  "language_info": {
   "codemirror_mode": {
    "name": "ipython",
    "version": 3
   },
   "file_extension": ".py",
   "mimetype": "text/x-python",
   "name": "python",
   "nbconvert_exporter": "python",
   "pygments_lexer": "ipython3",
   "version": "3.10.0"
  },
  "widgets": {
   "application/vnd.jupyter.widget-state+json": {
    "1f84695a1caf4c80b29eb5eea90bb29a": {
     "model_module": "@jupyter-widgets/base",
     "model_module_version": "1.2.0",
     "model_name": "LayoutModel",
     "state": {
      "_model_module": "@jupyter-widgets/base",
      "_model_module_version": "1.2.0",
      "_model_name": "LayoutModel",
      "_view_count": null,
      "_view_module": "@jupyter-widgets/base",
      "_view_module_version": "1.2.0",
      "_view_name": "LayoutView",
      "align_content": null,
      "align_items": null,
      "align_self": null,
      "border": null,
      "bottom": null,
      "display": null,
      "flex": null,
      "flex_flow": null,
      "grid_area": null,
      "grid_auto_columns": null,
      "grid_auto_flow": null,
      "grid_auto_rows": null,
      "grid_column": null,
      "grid_gap": null,
      "grid_row": null,
      "grid_template_areas": null,
      "grid_template_columns": null,
      "grid_template_rows": null,
      "height": null,
      "justify_content": null,
      "justify_items": null,
      "left": null,
      "margin": null,
      "max_height": null,
      "max_width": null,
      "min_height": null,
      "min_width": null,
      "object_fit": null,
      "object_position": null,
      "order": null,
      "overflow": null,
      "overflow_x": null,
      "overflow_y": null,
      "padding": null,
      "right": null,
      "top": null,
      "visibility": null,
      "width": null
     }
    },
    "317393fb13c0449abfff29a4949553a0": {
     "model_module": "@jupyter-widgets/controls",
     "model_module_version": "1.5.0",
     "model_name": "HTMLModel",
     "state": {
      "_dom_classes": [],
      "_model_module": "@jupyter-widgets/controls",
      "_model_module_version": "1.5.0",
      "_model_name": "HTMLModel",
      "_view_count": null,
      "_view_module": "@jupyter-widgets/controls",
      "_view_module_version": "1.5.0",
      "_view_name": "HTMLView",
      "description": "",
      "description_tooltip": null,
      "layout": "IPY_MODEL_1f84695a1caf4c80b29eb5eea90bb29a",
      "placeholder": "​",
      "style": "IPY_MODEL_a7a6884bfdb642b9b342f7cda49d7d67",
      "value": " 10/250 [05:53&lt;2:10:07, 32.53s/it]"
     }
    },
    "4b2aa7128c5d4d15bb794eb76faccd6a": {
     "model_module": "@jupyter-widgets/controls",
     "model_module_version": "1.5.0",
     "model_name": "FloatProgressModel",
     "state": {
      "_dom_classes": [],
      "_model_module": "@jupyter-widgets/controls",
      "_model_module_version": "1.5.0",
      "_model_name": "FloatProgressModel",
      "_view_count": null,
      "_view_module": "@jupyter-widgets/controls",
      "_view_module_version": "1.5.0",
      "_view_name": "ProgressView",
      "bar_style": "danger",
      "description": "",
      "description_tooltip": null,
      "layout": "IPY_MODEL_6a1187acb99d44c68e27cd5aad879ff1",
      "max": 250,
      "min": 0,
      "orientation": "horizontal",
      "style": "IPY_MODEL_6a5c9dbaddc441d390d4827c170cbe9c",
      "value": 10
     }
    },
    "6a1187acb99d44c68e27cd5aad879ff1": {
     "model_module": "@jupyter-widgets/base",
     "model_module_version": "1.2.0",
     "model_name": "LayoutModel",
     "state": {
      "_model_module": "@jupyter-widgets/base",
      "_model_module_version": "1.2.0",
      "_model_name": "LayoutModel",
      "_view_count": null,
      "_view_module": "@jupyter-widgets/base",
      "_view_module_version": "1.2.0",
      "_view_name": "LayoutView",
      "align_content": null,
      "align_items": null,
      "align_self": null,
      "border": null,
      "bottom": null,
      "display": null,
      "flex": null,
      "flex_flow": null,
      "grid_area": null,
      "grid_auto_columns": null,
      "grid_auto_flow": null,
      "grid_auto_rows": null,
      "grid_column": null,
      "grid_gap": null,
      "grid_row": null,
      "grid_template_areas": null,
      "grid_template_columns": null,
      "grid_template_rows": null,
      "height": null,
      "justify_content": null,
      "justify_items": null,
      "left": null,
      "margin": null,
      "max_height": null,
      "max_width": null,
      "min_height": null,
      "min_width": null,
      "object_fit": null,
      "object_position": null,
      "order": null,
      "overflow": null,
      "overflow_x": null,
      "overflow_y": null,
      "padding": null,
      "right": null,
      "top": null,
      "visibility": null,
      "width": null
     }
    },
    "6a5c9dbaddc441d390d4827c170cbe9c": {
     "model_module": "@jupyter-widgets/controls",
     "model_module_version": "1.5.0",
     "model_name": "ProgressStyleModel",
     "state": {
      "_model_module": "@jupyter-widgets/controls",
      "_model_module_version": "1.5.0",
      "_model_name": "ProgressStyleModel",
      "_view_count": null,
      "_view_module": "@jupyter-widgets/base",
      "_view_module_version": "1.2.0",
      "_view_name": "StyleView",
      "bar_color": null,
      "description_width": ""
     }
    },
    "750b2ea28d2a439db3fc5034927dbce2": {
     "model_module": "@jupyter-widgets/controls",
     "model_module_version": "1.5.0",
     "model_name": "HBoxModel",
     "state": {
      "_dom_classes": [],
      "_model_module": "@jupyter-widgets/controls",
      "_model_module_version": "1.5.0",
      "_model_name": "HBoxModel",
      "_view_count": null,
      "_view_module": "@jupyter-widgets/controls",
      "_view_module_version": "1.5.0",
      "_view_name": "HBoxView",
      "box_style": "",
      "children": [
       "IPY_MODEL_c172e120fc5e4f9ab13bf8599d868b5f",
       "IPY_MODEL_4b2aa7128c5d4d15bb794eb76faccd6a",
       "IPY_MODEL_317393fb13c0449abfff29a4949553a0"
      ],
      "layout": "IPY_MODEL_8cb75a82e5374c51b1f47a6e15783177"
     }
    },
    "8cb75a82e5374c51b1f47a6e15783177": {
     "model_module": "@jupyter-widgets/base",
     "model_module_version": "1.2.0",
     "model_name": "LayoutModel",
     "state": {
      "_model_module": "@jupyter-widgets/base",
      "_model_module_version": "1.2.0",
      "_model_name": "LayoutModel",
      "_view_count": null,
      "_view_module": "@jupyter-widgets/base",
      "_view_module_version": "1.2.0",
      "_view_name": "LayoutView",
      "align_content": null,
      "align_items": null,
      "align_self": null,
      "border": null,
      "bottom": null,
      "display": null,
      "flex": null,
      "flex_flow": null,
      "grid_area": null,
      "grid_auto_columns": null,
      "grid_auto_flow": null,
      "grid_auto_rows": null,
      "grid_column": null,
      "grid_gap": null,
      "grid_row": null,
      "grid_template_areas": null,
      "grid_template_columns": null,
      "grid_template_rows": null,
      "height": null,
      "justify_content": null,
      "justify_items": null,
      "left": null,
      "margin": null,
      "max_height": null,
      "max_width": null,
      "min_height": null,
      "min_width": null,
      "object_fit": null,
      "object_position": null,
      "order": null,
      "overflow": null,
      "overflow_x": null,
      "overflow_y": null,
      "padding": null,
      "right": null,
      "top": null,
      "visibility": null,
      "width": null
     }
    },
    "9cb3d937be5d4f7cac192b392218ef37": {
     "model_module": "@jupyter-widgets/base",
     "model_module_version": "1.2.0",
     "model_name": "LayoutModel",
     "state": {
      "_model_module": "@jupyter-widgets/base",
      "_model_module_version": "1.2.0",
      "_model_name": "LayoutModel",
      "_view_count": null,
      "_view_module": "@jupyter-widgets/base",
      "_view_module_version": "1.2.0",
      "_view_name": "LayoutView",
      "align_content": null,
      "align_items": null,
      "align_self": null,
      "border": null,
      "bottom": null,
      "display": null,
      "flex": null,
      "flex_flow": null,
      "grid_area": null,
      "grid_auto_columns": null,
      "grid_auto_flow": null,
      "grid_auto_rows": null,
      "grid_column": null,
      "grid_gap": null,
      "grid_row": null,
      "grid_template_areas": null,
      "grid_template_columns": null,
      "grid_template_rows": null,
      "height": null,
      "justify_content": null,
      "justify_items": null,
      "left": null,
      "margin": null,
      "max_height": null,
      "max_width": null,
      "min_height": null,
      "min_width": null,
      "object_fit": null,
      "object_position": null,
      "order": null,
      "overflow": null,
      "overflow_x": null,
      "overflow_y": null,
      "padding": null,
      "right": null,
      "top": null,
      "visibility": null,
      "width": null
     }
    },
    "a7a6884bfdb642b9b342f7cda49d7d67": {
     "model_module": "@jupyter-widgets/controls",
     "model_module_version": "1.5.0",
     "model_name": "DescriptionStyleModel",
     "state": {
      "_model_module": "@jupyter-widgets/controls",
      "_model_module_version": "1.5.0",
      "_model_name": "DescriptionStyleModel",
      "_view_count": null,
      "_view_module": "@jupyter-widgets/base",
      "_view_module_version": "1.2.0",
      "_view_name": "StyleView",
      "description_width": ""
     }
    },
    "b27b9cc333ac44a5bb2cec60d02f16c0": {
     "model_module": "@jupyter-widgets/controls",
     "model_module_version": "1.5.0",
     "model_name": "DescriptionStyleModel",
     "state": {
      "_model_module": "@jupyter-widgets/controls",
      "_model_module_version": "1.5.0",
      "_model_name": "DescriptionStyleModel",
      "_view_count": null,
      "_view_module": "@jupyter-widgets/base",
      "_view_module_version": "1.2.0",
      "_view_name": "StyleView",
      "description_width": ""
     }
    },
    "c172e120fc5e4f9ab13bf8599d868b5f": {
     "model_module": "@jupyter-widgets/controls",
     "model_module_version": "1.5.0",
     "model_name": "HTMLModel",
     "state": {
      "_dom_classes": [],
      "_model_module": "@jupyter-widgets/controls",
      "_model_module_version": "1.5.0",
      "_model_name": "HTMLModel",
      "_view_count": null,
      "_view_module": "@jupyter-widgets/controls",
      "_view_module_version": "1.5.0",
      "_view_name": "HTMLView",
      "description": "",
      "description_tooltip": null,
      "layout": "IPY_MODEL_9cb3d937be5d4f7cac192b392218ef37",
      "placeholder": "​",
      "style": "IPY_MODEL_b27b9cc333ac44a5bb2cec60d02f16c0",
      "value": "  4%"
     }
    }
   }
  }
 },
 "nbformat": 4,
 "nbformat_minor": 1
}
